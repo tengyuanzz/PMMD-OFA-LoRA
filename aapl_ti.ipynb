{
 "cells": [
  {
   "cell_type": "code",
   "execution_count": 1,
   "id": "42958baa",
   "metadata": {},
   "outputs": [],
   "source": [
    "%matplotlib inline\n",
    "import matplotlib.pyplot as plt"
   ]
  },
  {
   "cell_type": "code",
   "execution_count": 2,
   "id": "fc66c8d9",
   "metadata": {},
   "outputs": [],
   "source": [
    "%matplotlib inline\n",
    "import matplotlib.pyplot as plt"
   ]
  },
  {
   "cell_type": "code",
   "execution_count": 3,
   "id": "e3553c3c",
   "metadata": {},
   "outputs": [
    {
     "name": "stderr",
     "output_type": "stream",
     "text": [
      "c:\\Users\\Hiroshi\\miniconda3\\envs\\oneforall\\lib\\site-packages\\tqdm\\auto.py:21: TqdmWarning: IProgress not found. Please update jupyter and ipywidgets. See https://ipywidgets.readthedocs.io/en/stable/user_install.html\n",
      "  from .autonotebook import tqdm as notebook_tqdm\n"
     ]
    },
    {
     "name": "stdout",
     "output_type": "stream",
     "text": [
      "ii 0\n",
      "timeenc 0\n",
      "4\n",
      "Using Technical indicators\n",
      "(823, 10)\n",
      "self.data_x (823, 10)\n",
      "train 7280\n",
      "timeenc 0\n",
      "4\n",
      "Using Technical indicators\n",
      "(823, 10)\n",
      "self.data_x (166, 10)\n",
      "val 710\n",
      "timeenc 0\n",
      "4\n",
      "Using Technical indicators\n",
      "(823, 10)\n",
      "self.data_x (283, 10)\n",
      "test 1880\n",
      "len: 113\n",
      "gpt2 = GPT2Model(\n",
      "  (wte): Embedding(50257, 768)\n",
      "  (wpe): Embedding(1024, 768)\n",
      "  (drop): Dropout(p=0.1, inplace=False)\n",
      "  (h): ModuleList(\n",
      "    (0): GPT2Block(\n",
      "      (ln_1): LayerNorm((768,), eps=1e-05, elementwise_affine=True)\n",
      "      (attn): GPT2Attention(\n",
      "        (c_attn): Conv1D()\n",
      "        (c_proj): Conv1D()\n",
      "        (attn_dropout): Dropout(p=0.1, inplace=False)\n",
      "        (resid_dropout): Dropout(p=0.1, inplace=False)\n",
      "      )\n",
      "      (ln_2): LayerNorm((768,), eps=1e-05, elementwise_affine=True)\n",
      "      (mlp): GPT2MLP(\n",
      "        (c_fc): Conv1D()\n",
      "        (c_proj): Conv1D()\n",
      "        (act): NewGELUActivation()\n",
      "        (dropout): Dropout(p=0.1, inplace=False)\n",
      "      )\n",
      "    )\n",
      "    (1): GPT2Block(\n",
      "      (ln_1): LayerNorm((768,), eps=1e-05, elementwise_affine=True)\n",
      "      (attn): GPT2Attention(\n",
      "        (c_attn): Conv1D()\n",
      "        (c_proj): Conv1D()\n",
      "        (attn_dropout): Dropout(p=0.1, inplace=False)\n",
      "        (resid_dropout): Dropout(p=0.1, inplace=False)\n",
      "      )\n",
      "      (ln_2): LayerNorm((768,), eps=1e-05, elementwise_affine=True)\n",
      "      (mlp): GPT2MLP(\n",
      "        (c_fc): Conv1D()\n",
      "        (c_proj): Conv1D()\n",
      "        (act): NewGELUActivation()\n",
      "        (dropout): Dropout(p=0.1, inplace=False)\n",
      "      )\n",
      "    )\n",
      "    (2): GPT2Block(\n",
      "      (ln_1): LayerNorm((768,), eps=1e-05, elementwise_affine=True)\n",
      "      (attn): GPT2Attention(\n",
      "        (c_attn): Conv1D()\n",
      "        (c_proj): Conv1D()\n",
      "        (attn_dropout): Dropout(p=0.1, inplace=False)\n",
      "        (resid_dropout): Dropout(p=0.1, inplace=False)\n",
      "      )\n",
      "      (ln_2): LayerNorm((768,), eps=1e-05, elementwise_affine=True)\n",
      "      (mlp): GPT2MLP(\n",
      "        (c_fc): Conv1D()\n",
      "        (c_proj): Conv1D()\n",
      "        (act): NewGELUActivation()\n",
      "        (dropout): Dropout(p=0.1, inplace=False)\n",
      "      )\n",
      "    )\n",
      "    (3): GPT2Block(\n",
      "      (ln_1): LayerNorm((768,), eps=1e-05, elementwise_affine=True)\n",
      "      (attn): GPT2Attention(\n",
      "        (c_attn): Conv1D()\n",
      "        (c_proj): Conv1D()\n",
      "        (attn_dropout): Dropout(p=0.1, inplace=False)\n",
      "        (resid_dropout): Dropout(p=0.1, inplace=False)\n",
      "      )\n",
      "      (ln_2): LayerNorm((768,), eps=1e-05, elementwise_affine=True)\n",
      "      (mlp): GPT2MLP(\n",
      "        (c_fc): Conv1D()\n",
      "        (c_proj): Conv1D()\n",
      "        (act): NewGELUActivation()\n",
      "        (dropout): Dropout(p=0.1, inplace=False)\n",
      "      )\n",
      "    )\n",
      "    (4): GPT2Block(\n",
      "      (ln_1): LayerNorm((768,), eps=1e-05, elementwise_affine=True)\n",
      "      (attn): GPT2Attention(\n",
      "        (c_attn): Conv1D()\n",
      "        (c_proj): Conv1D()\n",
      "        (attn_dropout): Dropout(p=0.1, inplace=False)\n",
      "        (resid_dropout): Dropout(p=0.1, inplace=False)\n",
      "      )\n",
      "      (ln_2): LayerNorm((768,), eps=1e-05, elementwise_affine=True)\n",
      "      (mlp): GPT2MLP(\n",
      "        (c_fc): Conv1D()\n",
      "        (c_proj): Conv1D()\n",
      "        (act): NewGELUActivation()\n",
      "        (dropout): Dropout(p=0.1, inplace=False)\n",
      "      )\n",
      "    )\n",
      "    (5): GPT2Block(\n",
      "      (ln_1): LayerNorm((768,), eps=1e-05, elementwise_affine=True)\n",
      "      (attn): GPT2Attention(\n",
      "        (c_attn): Conv1D()\n",
      "        (c_proj): Conv1D()\n",
      "        (attn_dropout): Dropout(p=0.1, inplace=False)\n",
      "        (resid_dropout): Dropout(p=0.1, inplace=False)\n",
      "      )\n",
      "      (ln_2): LayerNorm((768,), eps=1e-05, elementwise_affine=True)\n",
      "      (mlp): GPT2MLP(\n",
      "        (c_fc): Conv1D()\n",
      "        (c_proj): Conv1D()\n",
      "        (act): NewGELUActivation()\n",
      "        (dropout): Dropout(p=0.1, inplace=False)\n",
      "      )\n",
      "    )\n",
      "  )\n",
      "  (ln_f): LayerNorm((768,), eps=1e-05, elementwise_affine=True)\n",
      ")\n",
      ">>> Entered train()\n",
      "Number of training batches: 113\n",
      ">>> Starting epoch 0\n",
      "Epoch: 1 cost time: 21.224672079086304\n"
     ]
    },
    {
     "name": "stderr",
     "output_type": "stream",
     "text": [
      "11it [00:02,  4.08it/s]\n"
     ]
    },
    {
     "name": "stdout",
     "output_type": "stream",
     "text": [
      "Epoch: 1, Steps: 113 | Train Loss: 0.7175834 Vali Loss: 1.8204823\n",
      "lr = 0.0009755285\n",
      "Validation loss decreased (inf --> 1.820482).  Saving model ...\n",
      ">>> Starting epoch 1\n",
      "Epoch: 2 cost time: 20.5686457157135\n"
     ]
    },
    {
     "name": "stderr",
     "output_type": "stream",
     "text": [
      "11it [00:02,  3.83it/s]"
     ]
    },
    {
     "name": "stdout",
     "output_type": "stream",
     "text": [
      "Epoch: 2, Steps: 113 | Train Loss: 0.5373987 Vali Loss: 1.8277206\n",
      "lr = 0.0009045095\n",
      "EarlyStopping counter: 1 out of 5\n",
      ">>> Starting epoch 2\n"
     ]
    },
    {
     "name": "stderr",
     "output_type": "stream",
     "text": [
      "\n"
     ]
    },
    {
     "name": "stdout",
     "output_type": "stream",
     "text": [
      "Epoch: 3 cost time: 20.465067148208618\n"
     ]
    },
    {
     "name": "stderr",
     "output_type": "stream",
     "text": [
      "11it [00:02,  4.09it/s]"
     ]
    },
    {
     "name": "stdout",
     "output_type": "stream",
     "text": [
      "Epoch: 3, Steps: 113 | Train Loss: 0.5162479 Vali Loss: 1.8692600\n",
      "lr = 0.0007938947\n",
      "EarlyStopping counter: 2 out of 5\n",
      ">>> Starting epoch 3\n"
     ]
    },
    {
     "name": "stderr",
     "output_type": "stream",
     "text": [
      "\n"
     ]
    },
    {
     "name": "stdout",
     "output_type": "stream",
     "text": [
      "Epoch: 4 cost time: 20.096012115478516\n"
     ]
    },
    {
     "name": "stderr",
     "output_type": "stream",
     "text": [
      "11it [00:02,  3.99it/s]\n"
     ]
    },
    {
     "name": "stdout",
     "output_type": "stream",
     "text": [
      "Epoch: 4, Steps: 113 | Train Loss: 0.5006313 Vali Loss: 1.5955334\n",
      "lr = 0.0006545120\n",
      "Validation loss decreased (1.820482 --> 1.595533).  Saving model ...\n",
      ">>> Starting epoch 4\n",
      "Epoch: 5 cost time: 20.353101015090942\n"
     ]
    },
    {
     "name": "stderr",
     "output_type": "stream",
     "text": [
      "11it [00:02,  4.02it/s]"
     ]
    },
    {
     "name": "stdout",
     "output_type": "stream",
     "text": [
      "Epoch: 5, Steps: 113 | Train Loss: 0.4882280 Vali Loss: 1.6397637\n",
      "lr = 0.0005000050\n",
      "EarlyStopping counter: 1 out of 5\n",
      ">>> Starting epoch 5\n"
     ]
    },
    {
     "name": "stderr",
     "output_type": "stream",
     "text": [
      "\n"
     ]
    },
    {
     "name": "stdout",
     "output_type": "stream",
     "text": [
      "Epoch: 6 cost time: 20.184946537017822\n"
     ]
    },
    {
     "name": "stderr",
     "output_type": "stream",
     "text": [
      "11it [00:02,  3.80it/s]"
     ]
    },
    {
     "name": "stdout",
     "output_type": "stream",
     "text": [
      "Epoch: 6, Steps: 113 | Train Loss: 0.4743059 Vali Loss: 1.6385440\n",
      "lr = 0.0003454980\n",
      "EarlyStopping counter: 2 out of 5\n",
      ">>> Starting epoch 6\n"
     ]
    },
    {
     "name": "stderr",
     "output_type": "stream",
     "text": [
      "\n"
     ]
    },
    {
     "name": "stdout",
     "output_type": "stream",
     "text": [
      "Epoch: 7 cost time: 20.531370401382446\n"
     ]
    },
    {
     "name": "stderr",
     "output_type": "stream",
     "text": [
      "11it [00:02,  3.85it/s]"
     ]
    },
    {
     "name": "stdout",
     "output_type": "stream",
     "text": [
      "Epoch: 7, Steps: 113 | Train Loss: 0.4653659 Vali Loss: 1.6416850\n",
      "lr = 0.0002061153\n",
      "EarlyStopping counter: 3 out of 5\n",
      ">>> Starting epoch 7\n"
     ]
    },
    {
     "name": "stderr",
     "output_type": "stream",
     "text": [
      "\n"
     ]
    },
    {
     "name": "stdout",
     "output_type": "stream",
     "text": [
      "Epoch: 8 cost time: 20.1021409034729\n"
     ]
    },
    {
     "name": "stderr",
     "output_type": "stream",
     "text": [
      "11it [00:02,  4.05it/s]"
     ]
    },
    {
     "name": "stdout",
     "output_type": "stream",
     "text": [
      "Epoch: 8, Steps: 113 | Train Loss: 0.4558246 Vali Loss: 1.7370995\n",
      "lr = 0.0000955005\n",
      "EarlyStopping counter: 4 out of 5\n",
      ">>> Starting epoch 8\n"
     ]
    },
    {
     "name": "stderr",
     "output_type": "stream",
     "text": [
      "\n"
     ]
    },
    {
     "name": "stdout",
     "output_type": "stream",
     "text": [
      "Epoch: 9 cost time: 20.2590012550354\n"
     ]
    },
    {
     "name": "stderr",
     "output_type": "stream",
     "text": [
      "11it [00:02,  3.88it/s]\n"
     ]
    },
    {
     "name": "stdout",
     "output_type": "stream",
     "text": [
      "Epoch: 9, Steps: 113 | Train Loss: 0.4511933 Vali Loss: 1.6793879\n",
      "lr = 0.0000244815\n",
      "EarlyStopping counter: 5 out of 5\n",
      "Early stopping\n",
      "------------------------------------\n"
     ]
    },
    {
     "name": "stderr",
     "output_type": "stream",
     "text": [
      "1it [00:01,  1.52s/it]"
     ]
    },
    {
     "name": "stdout",
     "output_type": "stream",
     "text": [
      "shapes1 (64, 48, 1) (64, 48, 1)\n",
      "shapes1 (64, 48, 1) (64, 48, 1)\n",
      "shapes1 (64, 48, 1) (64, 48, 1)\n",
      "shapes1 (64, 48, 1) (64, 48, 1)\n"
     ]
    },
    {
     "name": "stderr",
     "output_type": "stream",
     "text": [
      "6it [00:01,  4.33it/s]"
     ]
    },
    {
     "name": "stdout",
     "output_type": "stream",
     "text": [
      "shapes1 (64, 48, 1) (64, 48, 1)\n",
      "shapes1 (64, 48, 1) (64, 48, 1)\n",
      "shapes1 (64, 48, 1) (64, 48, 1)\n"
     ]
    },
    {
     "name": "stderr",
     "output_type": "stream",
     "text": [
      "10it [00:02,  7.02it/s]"
     ]
    },
    {
     "name": "stdout",
     "output_type": "stream",
     "text": [
      "shapes1 (64, 48, 1) (64, 48, 1)\n",
      "shapes1 (64, 48, 1) (64, 48, 1)\n",
      "shapes1 (64, 48, 1) (64, 48, 1)\n",
      "shapes1 (64, 48, 1) (64, 48, 1)\n",
      "shapes1 (64, 48, 1) (64, 48, 1)\n",
      "shapes1 (64, 48, 1) (64, 48, 1)\n",
      "shapes1 (64, 48, 1) (64, 48, 1)\n",
      "shapes1 (64, 48, 1) (64, 48, 1)\n",
      "shapes1 (64, 48, 1) (64, 48, 1)\n",
      "shapes1 (64, 48, 1) (64, 48, 1)\n"
     ]
    },
    {
     "name": "stderr",
     "output_type": "stream",
     "text": [
      "21it [00:02, 22.51it/s]"
     ]
    },
    {
     "name": "stdout",
     "output_type": "stream",
     "text": [
      "shapes1 (64, 48, 1) (64, 48, 1)\n",
      "shapes1 (64, 48, 1) (64, 48, 1)\n",
      "shapes1 (64, 48, 1) (64, 48, 1)\n",
      "shapes1 (64, 48, 1) (64, 48, 1)\n",
      "shapes1 (64, 48, 1) (64, 48, 1)\n",
      "shapes1 (64, 48, 1) (64, 48, 1)\n",
      "shapes1 (64, 48, 1) (64, 48, 1)\n",
      "shapes1 (64, 48, 1) (64, 48, 1)\n",
      "shapes1 (64, 48, 1) (64, 48, 1)\n",
      "shapes1 (64, 48, 1) (64, 48, 1)\n",
      "shapes1 (64, 48, 1) (64, 48, 1)\n",
      "shapes1 (64, 48, 1) (64, 48, 1)\n"
     ]
    },
    {
     "name": "stderr",
     "output_type": "stream",
     "text": [
      "29it [00:02, 10.01it/s]\n"
     ]
    },
    {
     "data": {
      "image/png": "[encoded data removed]",
      "text/plain": [
       "<Figure size 1200x500 with 1 Axes>"
      ]
     },
     "metadata": {},
     "output_type": "display_data"
    },
    {
     "name": "stdout",
     "output_type": "stream",
     "text": [
      "mse_mean = 246.9656, mse_std = 0.0000\n",
      "mae_mean = 13.1348, mae_std = 0.0000\n",
      "mae:13.134764392325218, mse:246.9656063321444, rmse:15.71513939906816, mape:6.31026132262873, mspe:0.006000389505610887, smape:6.257061111708621, nd:0.06186544540245032\n"
     ]
    }
   ],
   "source": [
    "percent = 100\n",
    "pred_len = 48\n",
    "\n",
    "cmd = [\n",
    "    # data paths & IDs\n",
    "    \"--root_path\",     \"./datasets/custom/\",\n",
    "    \"--data_path\",     \"AAPL_xlstm_date.csv\",\n",
    "    \"--model_id\",     f\"aapl_GPT4TS_ti_{pred_len}_{percent}\",\n",
    "\n",
    "    # dataset settings\n",
    "    \"--data\",         \"custom2\",\n",
    "    \"--features\",     \"M\",           # defaults to 'M' anyway\n",
    "    \"--freq\",         \"0\",           # parser expects int; '0' will get mapped to 'h'\n",
    "    \"--percent\",      str(percent),\n",
    "    \"--target\",       \"Close\",\n",
    "    \"--embed\",        \"-\",\n",
    "    \"--technical_indicators\", # if args present; means True\n",
    "\n",
    "    # sequence lengths\n",
    "    \"--seq_len\",      \"48\",\n",
    "    \"--label_len\",    \"24\",\n",
    "    \"--pred_len\",     str(pred_len),\n",
    "\n",
    "    # training hyperparams\n",
    "    \"--batch_size\",   \"64\",\n",
    "    \"--num_workers\",  \"10\",          # default is 10; adjust as needed\n",
    "    \"--learning_rate\",\"0.001\",\n",
    "    \"--train_epochs\", \"20\",\n",
    "    \"--patience\",     \"5\",\n",
    "    \"--lradj\",        \"type1\",       # default\n",
    "    \"--decay_fac\",    \"0.75\",\n",
    "\n",
    "    # model architecture\n",
    "    \"--model\",        \"GPT4TS\",\n",
    "    \"--pretrain\",     \"1\",           # defaults\n",
    "    \"--freeze\",       \"1\",\n",
    "    \"--is_gpt\",       \"1\",\n",
    "    \"--gpt_layers\",   \"6\",           # <— note the plural here\n",
    "    \"--e_layers\",     \"3\",\n",
    "    \"--d_model\",      \"768\",\n",
    "    \"--n_heads\",      \"4\",\n",
    "    \"--d_ff\",         \"256\",\n",
    "    \"--dropout\",      \"0.1\",\n",
    "    # \"--enc_in\",       \"862\",         # defaults\n",
    "    \"--enc_in\",       \"10\",         # defaults\n",
    "    # \"--c_out\",        \"862\",\n",
    "    \"--c_out\",        \"10\",\n",
    "    \"--patch_size\",   \"16\",\n",
    "    \"--stride\",       \"8\",\n",
    "    \"--kernel_size\",  \"25\",\n",
    "\n",
    "    # scheduler\n",
    "    \"--cos\",          \"1\",\n",
    "    \"--tmax\",         \"10\",\n",
    "\n",
    "    # loss\n",
    "    \"--loss_func\",    \"mse\",         # default\n",
    "\n",
    "    # seeds & misc\n",
    "    \"--itr\",          \"1\",           # number of repeats\n",
    "    \"--hid_dim\",      \"16\",          # default\n",
    "    \"--max_len\",      \"-1\",          # default\n",
    "]\n",
    "\n",
    "# print(\"Running command:\", \" \".join(cmd))\n",
    "# subprocess.run(cmd, check=True)\n",
    "\n",
    "import main\n",
    "if __name__ == \"__main__\":\n",
    "    main.main(args=cmd)\n",
    "    # pass"
   ]
  },
  {
   "cell_type": "markdown",
   "id": "700eb3fc",
   "metadata": {},
   "source": [
    "mae:0.6129, mse:0.7294, rmse:0.8540, smape:26.8512"
   ]
  }
 ],
 "metadata": {
  "kernelspec": {
   "display_name": "oneforall",
   "language": "python",
   "name": "python3"
  },
  "language_info": {
   "codemirror_mode": {
    "name": "ipython",
    "version": 3
   },
   "file_extension": ".py",
   "mimetype": "text/x-python",
   "name": "python",
   "nbconvert_exporter": "python",
   "pygments_lexer": "ipython3",
   "version": "3.8.20"
  }
 },
 "nbformat": 4,
 "nbformat_minor": 5
}
