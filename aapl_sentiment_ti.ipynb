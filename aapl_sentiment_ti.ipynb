{
 "cells": [
  {
   "cell_type": "code",
   "execution_count": 1,
   "id": "42958baa",
   "metadata": {},
   "outputs": [],
   "source": [
    "%matplotlib inline\n",
    "import matplotlib.pyplot as plt"
   ]
  },
  {
   "cell_type": "code",
   "execution_count": 2,
   "id": "c5218293",
   "metadata": {},
   "outputs": [
    {
     "name": "stderr",
     "output_type": "stream",
     "text": [
      "c:\\Users\\Hiroshi\\miniconda3\\envs\\oneforall\\lib\\site-packages\\tqdm\\auto.py:21: TqdmWarning: IProgress not found. Please update jupyter and ipywidgets. See https://ipywidgets.readthedocs.io/en/stable/user_install.html\n",
      "  from .autonotebook import tqdm as notebook_tqdm\n"
     ]
    },
    {
     "name": "stdout",
     "output_type": "stream",
     "text": [
      "ii 0\n",
      "timeenc 0\n",
      "4\n",
      "Using Technical indicators\n",
      "(937, 13)\n",
      "self.data_x (937, 13)\n",
      "train 10946\n",
      "timeenc 0\n",
      "4\n",
      "Using Technical indicators\n",
      "(937, 13)\n",
      "self.data_x (183, 13)\n",
      "val 1144\n",
      "timeenc 0\n",
      "4\n",
      "Using Technical indicators\n",
      "(937, 13)\n",
      "self.data_x (315, 13)\n",
      "test 2860\n",
      "len: 171\n",
      "gpt2 = GPT2Model(\n",
      "  (wte): Embedding(50257, 768)\n",
      "  (wpe): Embedding(1024, 768)\n",
      "  (drop): Dropout(p=0.1, inplace=False)\n",
      "  (h): ModuleList(\n",
      "    (0): GPT2Block(\n",
      "      (ln_1): LayerNorm((768,), eps=1e-05, elementwise_affine=True)\n",
      "      (attn): GPT2Attention(\n",
      "        (c_attn): Conv1D()\n",
      "        (c_proj): Conv1D()\n",
      "        (attn_dropout): Dropout(p=0.1, inplace=False)\n",
      "        (resid_dropout): Dropout(p=0.1, inplace=False)\n",
      "      )\n",
      "      (ln_2): LayerNorm((768,), eps=1e-05, elementwise_affine=True)\n",
      "      (mlp): GPT2MLP(\n",
      "        (c_fc): Conv1D()\n",
      "        (c_proj): Conv1D()\n",
      "        (act): NewGELUActivation()\n",
      "        (dropout): Dropout(p=0.1, inplace=False)\n",
      "      )\n",
      "    )\n",
      "    (1): GPT2Block(\n",
      "      (ln_1): LayerNorm((768,), eps=1e-05, elementwise_affine=True)\n",
      "      (attn): GPT2Attention(\n",
      "        (c_attn): Conv1D()\n",
      "        (c_proj): Conv1D()\n",
      "        (attn_dropout): Dropout(p=0.1, inplace=False)\n",
      "        (resid_dropout): Dropout(p=0.1, inplace=False)\n",
      "      )\n",
      "      (ln_2): LayerNorm((768,), eps=1e-05, elementwise_affine=True)\n",
      "      (mlp): GPT2MLP(\n",
      "        (c_fc): Conv1D()\n",
      "        (c_proj): Conv1D()\n",
      "        (act): NewGELUActivation()\n",
      "        (dropout): Dropout(p=0.1, inplace=False)\n",
      "      )\n",
      "    )\n",
      "    (2): GPT2Block(\n",
      "      (ln_1): LayerNorm((768,), eps=1e-05, elementwise_affine=True)\n",
      "      (attn): GPT2Attention(\n",
      "        (c_attn): Conv1D()\n",
      "        (c_proj): Conv1D()\n",
      "        (attn_dropout): Dropout(p=0.1, inplace=False)\n",
      "        (resid_dropout): Dropout(p=0.1, inplace=False)\n",
      "      )\n",
      "      (ln_2): LayerNorm((768,), eps=1e-05, elementwise_affine=True)\n",
      "      (mlp): GPT2MLP(\n",
      "        (c_fc): Conv1D()\n",
      "        (c_proj): Conv1D()\n",
      "        (act): NewGELUActivation()\n",
      "        (dropout): Dropout(p=0.1, inplace=False)\n",
      "      )\n",
      "    )\n",
      "    (3): GPT2Block(\n",
      "      (ln_1): LayerNorm((768,), eps=1e-05, elementwise_affine=True)\n",
      "      (attn): GPT2Attention(\n",
      "        (c_attn): Conv1D()\n",
      "        (c_proj): Conv1D()\n",
      "        (attn_dropout): Dropout(p=0.1, inplace=False)\n",
      "        (resid_dropout): Dropout(p=0.1, inplace=False)\n",
      "      )\n",
      "      (ln_2): LayerNorm((768,), eps=1e-05, elementwise_affine=True)\n",
      "      (mlp): GPT2MLP(\n",
      "        (c_fc): Conv1D()\n",
      "        (c_proj): Conv1D()\n",
      "        (act): NewGELUActivation()\n",
      "        (dropout): Dropout(p=0.1, inplace=False)\n",
      "      )\n",
      "    )\n",
      "    (4): GPT2Block(\n",
      "      (ln_1): LayerNorm((768,), eps=1e-05, elementwise_affine=True)\n",
      "      (attn): GPT2Attention(\n",
      "        (c_attn): Conv1D()\n",
      "        (c_proj): Conv1D()\n",
      "        (attn_dropout): Dropout(p=0.1, inplace=False)\n",
      "        (resid_dropout): Dropout(p=0.1, inplace=False)\n",
      "      )\n",
      "      (ln_2): LayerNorm((768,), eps=1e-05, elementwise_affine=True)\n",
      "      (mlp): GPT2MLP(\n",
      "        (c_fc): Conv1D()\n",
      "        (c_proj): Conv1D()\n",
      "        (act): NewGELUActivation()\n",
      "        (dropout): Dropout(p=0.1, inplace=False)\n",
      "      )\n",
      "    )\n",
      "    (5): GPT2Block(\n",
      "      (ln_1): LayerNorm((768,), eps=1e-05, elementwise_affine=True)\n",
      "      (attn): GPT2Attention(\n",
      "        (c_attn): Conv1D()\n",
      "        (c_proj): Conv1D()\n",
      "        (attn_dropout): Dropout(p=0.1, inplace=False)\n",
      "        (resid_dropout): Dropout(p=0.1, inplace=False)\n",
      "      )\n",
      "      (ln_2): LayerNorm((768,), eps=1e-05, elementwise_affine=True)\n",
      "      (mlp): GPT2MLP(\n",
      "        (c_fc): Conv1D()\n",
      "        (c_proj): Conv1D()\n",
      "        (act): NewGELUActivation()\n",
      "        (dropout): Dropout(p=0.1, inplace=False)\n",
      "      )\n",
      "    )\n",
      "  )\n",
      "  (ln_f): LayerNorm((768,), eps=1e-05, elementwise_affine=True)\n",
      ")\n",
      ">>> Entered train()\n",
      "Number of training batches: 171\n",
      ">>> Starting epoch 0\n",
      "Epoch: 1 cost time: 22.4966242313385\n"
     ]
    },
    {
     "name": "stderr",
     "output_type": "stream",
     "text": [
      "17it [00:02,  5.88it/s]\n"
     ]
    },
    {
     "name": "stdout",
     "output_type": "stream",
     "text": [
      "Epoch: 1, Steps: 171 | Train Loss: 0.8120143 Vali Loss: 1.1415930\n",
      "lr = 0.0009755285\n",
      "Validation loss decreased (inf --> 1.141593).  Saving model ...\n",
      ">>> Starting epoch 1\n",
      "Epoch: 2 cost time: 21.61020255088806\n"
     ]
    },
    {
     "name": "stderr",
     "output_type": "stream",
     "text": [
      "17it [00:02,  5.77it/s]\n"
     ]
    },
    {
     "name": "stdout",
     "output_type": "stream",
     "text": [
      "Epoch: 2, Steps: 171 | Train Loss: 0.7031286 Vali Loss: 1.1018950\n",
      "lr = 0.0009045095\n",
      "Validation loss decreased (1.141593 --> 1.101895).  Saving model ...\n",
      ">>> Starting epoch 2\n",
      "Epoch: 3 cost time: 21.501161813735962\n"
     ]
    },
    {
     "name": "stderr",
     "output_type": "stream",
     "text": [
      "17it [00:02,  5.90it/s]"
     ]
    },
    {
     "name": "stdout",
     "output_type": "stream",
     "text": [
      "Epoch: 3, Steps: 171 | Train Loss: 0.6899553 Vali Loss: 1.1108459\n",
      "lr = 0.0007938947\n",
      "EarlyStopping counter: 1 out of 5\n",
      ">>> Starting epoch 3\n"
     ]
    },
    {
     "name": "stderr",
     "output_type": "stream",
     "text": [
      "\n"
     ]
    },
    {
     "name": "stdout",
     "output_type": "stream",
     "text": [
      "Epoch: 4 cost time: 21.613821506500244\n"
     ]
    },
    {
     "name": "stderr",
     "output_type": "stream",
     "text": [
      "17it [00:02,  5.94it/s]\n"
     ]
    },
    {
     "name": "stdout",
     "output_type": "stream",
     "text": [
      "Epoch: 4, Steps: 171 | Train Loss: 0.6811813 Vali Loss: 1.0825720\n",
      "lr = 0.0006545120\n",
      "Validation loss decreased (1.101895 --> 1.082572).  Saving model ...\n",
      ">>> Starting epoch 4\n",
      "Epoch: 5 cost time: 21.6689453125\n"
     ]
    },
    {
     "name": "stderr",
     "output_type": "stream",
     "text": [
      "17it [00:02,  5.96it/s]"
     ]
    },
    {
     "name": "stdout",
     "output_type": "stream",
     "text": [
      "Epoch: 5, Steps: 171 | Train Loss: 0.6724003 Vali Loss: 1.1111513\n",
      "lr = 0.0005000050\n",
      "EarlyStopping counter: 1 out of 5\n",
      ">>> Starting epoch 5\n"
     ]
    },
    {
     "name": "stderr",
     "output_type": "stream",
     "text": [
      "\n"
     ]
    },
    {
     "name": "stdout",
     "output_type": "stream",
     "text": [
      "Epoch: 6 cost time: 22.787137985229492\n"
     ]
    },
    {
     "name": "stderr",
     "output_type": "stream",
     "text": [
      "17it [00:02,  5.87it/s]"
     ]
    },
    {
     "name": "stdout",
     "output_type": "stream",
     "text": [
      "Epoch: 6, Steps: 171 | Train Loss: 0.6645296 Vali Loss: 1.1246912\n",
      "lr = 0.0003454980\n",
      "EarlyStopping counter: 2 out of 5\n",
      ">>> Starting epoch 6\n"
     ]
    },
    {
     "name": "stderr",
     "output_type": "stream",
     "text": [
      "\n"
     ]
    },
    {
     "name": "stdout",
     "output_type": "stream",
     "text": [
      "Epoch: 7 cost time: 21.381397008895874\n"
     ]
    },
    {
     "name": "stderr",
     "output_type": "stream",
     "text": [
      "17it [00:02,  6.00it/s]"
     ]
    },
    {
     "name": "stdout",
     "output_type": "stream",
     "text": [
      "Epoch: 7, Steps: 171 | Train Loss: 0.6580344 Vali Loss: 1.0889914\n",
      "lr = 0.0002061153\n",
      "EarlyStopping counter: 3 out of 5\n",
      ">>> Starting epoch 7\n"
     ]
    },
    {
     "name": "stderr",
     "output_type": "stream",
     "text": [
      "\n"
     ]
    },
    {
     "name": "stdout",
     "output_type": "stream",
     "text": [
      "Epoch: 8 cost time: 21.616113662719727\n"
     ]
    },
    {
     "name": "stderr",
     "output_type": "stream",
     "text": [
      "17it [00:02,  5.67it/s]"
     ]
    },
    {
     "name": "stdout",
     "output_type": "stream",
     "text": [
      "Epoch: 8, Steps: 171 | Train Loss: 0.6506093 Vali Loss: 1.0899534\n",
      "lr = 0.0000955005\n",
      "EarlyStopping counter: 4 out of 5\n",
      ">>> Starting epoch 8\n"
     ]
    },
    {
     "name": "stderr",
     "output_type": "stream",
     "text": [
      "\n"
     ]
    },
    {
     "name": "stdout",
     "output_type": "stream",
     "text": [
      "Epoch: 9 cost time: 21.4897403717041\n"
     ]
    },
    {
     "name": "stderr",
     "output_type": "stream",
     "text": [
      "17it [00:02,  5.86it/s]\n"
     ]
    },
    {
     "name": "stdout",
     "output_type": "stream",
     "text": [
      "Epoch: 9, Steps: 171 | Train Loss: 0.6452607 Vali Loss: 1.0904127\n",
      "lr = 0.0000244815\n",
      "EarlyStopping counter: 5 out of 5\n",
      "Early stopping\n",
      "------------------------------------\n"
     ]
    },
    {
     "name": "stderr",
     "output_type": "stream",
     "text": [
      "5it [00:00, 25.88it/s]"
     ]
    },
    {
     "name": "stdout",
     "output_type": "stream",
     "text": [
      "shapes1 (64, 48, 1) (64, 48, 1)\n",
      "shapes1 (64, 48, 1) (64, 48, 1)\n",
      "shapes1 (64, 48, 1) (64, 48, 1)\n",
      "shapes1 (64, 48, 1) (64, 48, 1)\n",
      "shapes1 (64, 48, 1) (64, 48, 1)\n",
      "shapes1 (64, 48, 1) (64, 48, 1)\n",
      "shapes1 (64, 48, 1) (64, 48, 1)\n",
      "shapes1 (64, 48, 1) (64, 48, 1)\n",
      "shapes1 (64, 48, 1) (64, 48, 1)\n",
      "shapes1 (64, 48, 1) (64, 48, 1)\n",
      "shapes1 (64, 48, 1) (64, 48, 1)\n",
      "shapes1 (64, 48, 1) (64, 48, 1)\n",
      "shapes1 (64, 48, 1) (64, 48, 1)\n",
      "shapes1 (64, 48, 1) (64, 48, 1)\n"
     ]
    },
    {
     "name": "stderr",
     "output_type": "stream",
     "text": [
      "24it [00:00, 69.90it/s]"
     ]
    },
    {
     "name": "stdout",
     "output_type": "stream",
     "text": [
      "shapes1 (64, 48, 1) (64, 48, 1)\n",
      "shapes1 (64, 48, 1) (64, 48, 1)\n",
      "shapes1 (64, 48, 1) (64, 48, 1)\n",
      "shapes1 (64, 48, 1) (64, 48, 1)\n",
      "shapes1 (64, 48, 1) (64, 48, 1)\n",
      "shapes1 (64, 48, 1) (64, 48, 1)\n",
      "shapes1 (64, 48, 1) (64, 48, 1)\n",
      "shapes1 (64, 48, 1) (64, 48, 1)\n",
      "shapes1 (64, 48, 1) (64, 48, 1)\n",
      "shapes1 (64, 48, 1) (64, 48, 1)\n",
      "shapes1 (64, 48, 1) (64, 48, 1)\n",
      "shapes1 (64, 48, 1) (64, 48, 1)\n",
      "shapes1 (64, 48, 1) (64, 48, 1)\n",
      "shapes1 (64, 48, 1) (64, 48, 1)\n",
      "shapes1 (64, 48, 1) (64, 48, 1)\n",
      "shapes1 (64, 48, 1) (64, 48, 1)\n",
      "shapes1 (64, 48, 1) (64, 48, 1)\n",
      "shapes1 (64, 48, 1) (64, 48, 1)\n",
      "shapes1 (64, 48, 1) (64, 48, 1)\n",
      "shapes1 (64, 48, 1) (64, 48, 1)\n"
     ]
    },
    {
     "name": "stderr",
     "output_type": "stream",
     "text": [
      "35it [00:00, 82.88it/s]"
     ]
    },
    {
     "name": "stdout",
     "output_type": "stream",
     "text": [
      "shapes1 (64, 48, 1) (64, 48, 1)\n",
      "shapes1 (64, 48, 1) (64, 48, 1)\n",
      "shapes1 (64, 48, 1) (64, 48, 1)\n",
      "shapes1 (64, 48, 1) (64, 48, 1)\n",
      "shapes1 (64, 48, 1) (64, 48, 1)\n",
      "shapes1 (64, 48, 1) (64, 48, 1)\n",
      "shapes1 (64, 48, 1) (64, 48, 1)\n",
      "shapes1 (64, 48, 1) (64, 48, 1)\n",
      "shapes1 (64, 48, 1) (64, 48, 1)\n",
      "shapes1 (64, 48, 1) (64, 48, 1)\n"
     ]
    },
    {
     "name": "stderr",
     "output_type": "stream",
     "text": [
      "44it [00:01, 40.54it/s]\n"
     ]
    },
    {
     "data": {
      "image/png": "[encoded data removed]",
      "text/plain": [
       "<Figure size 1200x500 with 1 Axes>"
      ]
     },
     "metadata": {},
     "output_type": "display_data"
    },
    {
     "name": "stdout",
     "output_type": "stream",
     "text": [
      "mse_mean = 238.4837, mse_std = 0.0000\n",
      "mae_mean = 12.7766, mae_std = 0.0000\n",
      "mae:12.776569226293852, mse:238.48370637064056, rmse:15.442917676742324, mape:6.0612227256362035, mspe:0.00556798942391171, smape:6.118737130062968, nd:0.06022976387402913\n"
     ]
    }
   ],
   "source": [
    "percent = 100\n",
    "pred_len = 48\n",
    "\n",
    "cmd = [\n",
    "    # data paths & IDs\n",
    "    \"--root_path\",     \"./datasets/custom/\",\n",
    "    \"--data_path\",     \"AAPL_xlstm_sentiment_comb.csv\",\n",
    "    \"--model_id\",     f\"aapl_GPT4TS_sent_ti_{pred_len}_{percent}\",\n",
    "\n",
    "    # dataset settings\n",
    "    \"--data\",         \"custom2\",\n",
    "    \"--features\",     \"M\",           # defaults to 'M' anyway\n",
    "    \"--freq\",         \"0\",           # parser expects int; '0' will get mapped to 'h'\n",
    "    \"--percent\",      str(percent),\n",
    "    \"--target\",       \"Close\",\n",
    "    \"--embed\",        \"-\",\n",
    "    \"--technical_indicators\", # if args present; means True\n",
    "\n",
    "    # sequence lengths\n",
    "    \"--seq_len\",      \"48\",\n",
    "    \"--label_len\",    \"24\",\n",
    "    \"--pred_len\",     str(pred_len),\n",
    "\n",
    "    # training hyperparams\n",
    "    \"--batch_size\",   \"64\",\n",
    "    \"--num_workers\",  \"10\",          # default is 10; adjust as needed\n",
    "    \"--learning_rate\",\"0.001\",\n",
    "    \"--train_epochs\", \"20\",\n",
    "    \"--patience\",     \"5\",\n",
    "    \"--lradj\",        \"type1\",       # default\n",
    "    \"--decay_fac\",    \"0.75\",\n",
    "\n",
    "    # model architecture\n",
    "    \"--model\",        \"GPT4TS\",\n",
    "    \"--pretrain\",     \"1\",           # defaults\n",
    "    \"--freeze\",       \"1\",\n",
    "    \"--is_gpt\",       \"1\",\n",
    "    \"--gpt_layers\",   \"6\",           # <— note the plural here\n",
    "    \"--e_layers\",     \"3\",\n",
    "    \"--d_model\",      \"768\",\n",
    "    \"--n_heads\",      \"4\",\n",
    "    \"--d_ff\",         \"256\",\n",
    "    \"--dropout\",      \"0.1\",\n",
    "    # \"--enc_in\",       \"862\",         # defaults\n",
    "    \"--enc_in\",       \"13\",         # defaults\n",
    "    # \"--c_out\",        \"862\",\n",
    "    \"--c_out\",        \"13\",\n",
    "    \"--patch_size\",   \"16\",\n",
    "    \"--stride\",       \"8\",\n",
    "    \"--kernel_size\",  \"25\",\n",
    "\n",
    "    # scheduler\n",
    "    \"--cos\",          \"1\",\n",
    "    \"--tmax\",         \"10\",\n",
    "\n",
    "    # loss\n",
    "    \"--loss_func\",    \"mse\",         # default\n",
    "\n",
    "    # seeds & misc\n",
    "    \"--itr\",          \"1\",           # number of repeats\n",
    "    \"--hid_dim\",      \"16\",          # default\n",
    "    \"--max_len\",      \"-1\",          # default\n",
    "]\n",
    "\n",
    "# print(\"Running command:\", \" \".join(cmd))\n",
    "# subprocess.run(cmd, check=True)\n",
    "\n",
    "import main\n",
    "if __name__ == \"__main__\":\n",
    "    main.main(args=cmd)\n",
    "    # pass"
   ]
  },
  {
   "cell_type": "markdown",
   "id": "88c84754",
   "metadata": {},
   "source": [
    "mae:0.6129, mse:0.7294, rmse:0.8540, smape:26.8512"
   ]
  }
 ],
 "metadata": {
  "kernelspec": {
   "display_name": "oneforall",
   "language": "python",
   "name": "python3"
  },
  "language_info": {
   "codemirror_mode": {
    "name": "ipython",
    "version": 3
   },
   "file_extension": ".py",
   "mimetype": "text/x-python",
   "name": "python",
   "nbconvert_exporter": "python",
   "pygments_lexer": "ipython3",
   "version": "3.8.20"
  }
 },
 "nbformat": 4,
 "nbformat_minor": 5
}
